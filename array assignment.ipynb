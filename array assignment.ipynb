{
 "cells": [
  {
   "cell_type": "code",
   "execution_count": null,
   "id": "fa0bb909-cc11-4935-99f9-bb099cd28b49",
   "metadata": {},
   "outputs": [],
   "source": [
    "1. Given an array, check if it contains any duplicates or not.\n",
    "arr = [1, 2, 4, 2, 5, 9]\n",
    "Output = True"
   ]
  },
  {
   "cell_type": "code",
   "execution_count": 1,
   "id": "f0bb96c4-6fd9-44d3-9a37-5e72b9588734",
   "metadata": {},
   "outputs": [
    {
     "name": "stdout",
     "output_type": "stream",
     "text": [
      "output = True\n"
     ]
    }
   ],
   "source": [
    "def duplicates(arr):\n",
    "    seen ={}\n",
    "    for num in arr:\n",
    "        if num in seen:\n",
    "            return True\n",
    "        seen[num] = 1\n",
    "    return False\n",
    "arr = [1,2,4,2,5,9]\n",
    "output = duplicates(arr)\n",
    "print(\"output =\",output)\n",
    "    \n",
    "        "
   ]
  },
  {
   "cell_type": "code",
   "execution_count": null,
   "id": "63ce60a8-26cd-47c7-b622-9987a80a9738",
   "metadata": {},
   "outputs": [],
   "source": [
    "2. Given an array and an integer k, rotate the array to the right by k steps.\n",
    "arr = [1, 2, 3, 4, 5, 6, 7] k = 3\n",
    "Output = [5, 6, 7, 1, 2, 3, 4]"
   ]
  },
  {
   "cell_type": "code",
   "execution_count": 4,
   "id": "93a85843-db91-483b-b527-7c129a195623",
   "metadata": {},
   "outputs": [
    {
     "name": "stdout",
     "output_type": "stream",
     "text": [
      "Output = [5, 6, 7, 1, 2, 3, 4]\n"
     ]
    }
   ],
   "source": [
    "def rotate_array(arr, k):\n",
    "    n = len(arr)\n",
    "    # If k is greater than the length of the array, take modulo\n",
    "    k = k % n\n",
    "    # Rotate the entire array\n",
    "    arr.reverse()\n",
    "    # Rotate the first k elements\n",
    "    arr[:k] = arr[:k][::-1]\n",
    "    # Rotate the rest of the elements\n",
    "    arr[k:] = arr[k:][::-1]\n",
    "    return arr\n",
    "\n",
    "arr = [1, 2, 3, 4, 5, 6, 7]\n",
    "k = 3\n",
    "output = rotate_array(arr, k)\n",
    "print(\"Output =\", output)\n"
   ]
  },
  {
   "cell_type": "code",
   "execution_count": null,
   "id": "998b575f-87a9-4bb9-812a-6611736b4364",
   "metadata": {},
   "outputs": [],
   "source": [
    "3. Reverse the given array in-place, means without using any extra data structure.\n",
    "arr = [2, 4, 5, 7, 9, 12]\n",
    "Output = [12, 9, 7, 5, 4, 2]"
   ]
  },
  {
   "cell_type": "code",
   "execution_count": 21,
   "id": "e043a0b2-47ae-4ca4-8f0c-0774f32ac746",
   "metadata": {},
   "outputs": [
    {
     "name": "stdout",
     "output_type": "stream",
     "text": [
      "Reversed array: [5, 4, 3, 2, 1]\n"
     ]
    }
   ],
   "source": [
    "def reverse_array(arr):\n",
    "    start = 0\n",
    "    end = len(arr) - 1\n",
    "\n",
    "    while start < end:\n",
    "        arr[start], arr[end] = arr[end], arr[start]\n",
    "        start += 1\n",
    "        end -= 1\n",
    "\n",
    "arr = [1]\n",
    "reverse_array(arr)\n",
    "print(\"Reversed array:\", arr)\n"
   ]
  },
  {
   "cell_type": "code",
   "execution_count": null,
   "id": "891fbe04-c341-4b04-8670-293e0608f31f",
   "metadata": {},
   "outputs": [],
   "source": [
    "4. Given an array of integers, find the maximum element in an array\n",
    "arr = [10, 5, 20, 8, 15]\n",
    "Output = 20"
   ]
  },
  {
   "cell_type": "code",
   "execution_count": 7,
   "id": "490c3ad2-f4c3-4716-969a-89839bd6bc81",
   "metadata": {},
   "outputs": [
    {
     "name": "stdout",
     "output_type": "stream",
     "text": [
      "20\n"
     ]
    }
   ],
   "source": [
    "arr = [10, 5, 20, 8, 15]\n",
    "i = 0\n",
    "maxi = 0\n",
    "\n",
    "while i < len(arr):\n",
    "    if arr[i] > maxi:\n",
    "        maxi = arr[i]\n",
    "    i += 1\n",
    "\n",
    "print(maxi)\n"
   ]
  },
  {
   "cell_type": "code",
   "execution_count": null,
   "id": "20879678-70f2-4aaa-b6f9-0e3d9bd80764",
   "metadata": {},
   "outputs": [],
   "source": [
    "5. Given a sorted array, remove the duplicate element without using any extra data structure.\n",
    "arr = [1, 1, 2, 2, 2, 3, 3, 4, 4, 4, 5, 5]\n",
    "Output = [1, 2, 3, 4, 5]"
   ]
  },
  {
   "cell_type": "code",
   "execution_count": 19,
   "id": "e89223ca-a75b-4b99-860e-ec4b13586f19",
   "metadata": {},
   "outputs": [
    {
     "name": "stdout",
     "output_type": "stream",
     "text": [
      "Array after removing duplicates: [1, 2, 3, 4, 5]\n"
     ]
    }
   ],
   "source": [
    "def remove_duplicates(arr):\n",
    "    if not arr:\n",
    "        return 0\n",
    "\n",
    "    length = 1  # Length of the modified array\n",
    "\n",
    "    for i in range(1, len(arr)):\n",
    "        if arr[i] != arr[i - 1]:\n",
    "            arr[length] = arr[i]\n",
    "            length += 1\n",
    "\n",
    "    return length\n",
    "\n",
    "arr = [1, 1, 2, 2, 3, 4, 4, 4, 5, 5]\n",
    "new_length = remove_duplicates(arr)\n",
    "\n",
    "print(\"Array after removing duplicates:\", arr[:new_length])\n",
    "\n"
   ]
  },
  {
   "cell_type": "code",
   "execution_count": null,
   "id": "9dc4b0f6-5884-4027-b0ce-f437fb8bb38d",
   "metadata": {},
   "outputs": [],
   "source": []
  }
 ],
 "metadata": {
  "kernelspec": {
   "display_name": "Python 3 (ipykernel)",
   "language": "python",
   "name": "python3"
  },
  "language_info": {
   "codemirror_mode": {
    "name": "ipython",
    "version": 3
   },
   "file_extension": ".py",
   "mimetype": "text/x-python",
   "name": "python",
   "nbconvert_exporter": "python",
   "pygments_lexer": "ipython3",
   "version": "3.10.8"
  }
 },
 "nbformat": 4,
 "nbformat_minor": 5
}

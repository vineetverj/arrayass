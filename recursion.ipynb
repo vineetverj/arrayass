{
 "cells": [
  {
   "cell_type": "code",
   "execution_count": null,
   "id": "9fadb9aa-6716-46e3-aa20-8323ba87d6db",
   "metadata": {},
   "outputs": [],
   "source": [
    "Q.1 Can you explain the logic and working of the Tower of Hanoi algorithm by writing a Java program?\n",
    "How does the recursion work, and how are the movements of disks between rods accomplished?"
   ]
  },
  {
   "cell_type": "code",
   "execution_count": null,
   "id": "d0822375-9138-43f0-b636-a6d55244672e",
   "metadata": {},
   "outputs": [],
   "source": [
    "You have three rods and a number of disks of different sizes that can slide onto any rod.\n",
    "The puzzle starts with the disks in ascending order of size on one rod, with the smallest disk at the top.\n",
    "The objective is to move the entire stack to another rod, following these rules:\n",
    "Only one disk can be moved at a time.\n",
    "A disk can only be moved if it's the uppermost disk on a stack.\n",
    "No disk may be placed on top of a smaller disk.\n",
    "\n",
    "public class TowerOfHanoi {\n",
    "\n",
    "    public static void towerOfHanoi(int n, char source, char auxiliary, char destination) {\n",
    "        if (n == 1) {\n",
    "            System.out.println(\"Move disk 1 from \" + source + \" to \" + destination);\n",
    "            return;\n",
    "        }\n",
    "\n",
    "        towerOfHanoi(n - 1, source, destination, auxiliary);\n",
    "        System.out.println(\"Move disk \" + n + \" from \" + source + \" to \" + destination);\n",
    "        towerOfHanoi(n - 1, auxiliary, source, destination);\n",
    "    }\n",
    "\n",
    "    public static void main(String[] args) {\n",
    "        int numDisks = 3;\n",
    "        towerOfHanoi(numDisks, 'A', 'B', 'C');\n",
    "    }\n",
    "}\n",
    "\n",
    "Certainly! The Tower of Hanoi is a classic recursive problem involving moving disks from one rod to another, obeying specific rules. The rules are:\n",
    "\n",
    "You have three rods and a number of disks of different sizes that can slide onto any rod.\n",
    "The puzzle starts with the disks in ascending order of size on one rod, with the smallest disk at the top.\n",
    "The objective is to move the entire stack to another rod, following these rules:\n",
    "Only one disk can be moved at a time.\n",
    "A disk can only be moved if it's the uppermost disk on a stack.\n",
    "No disk may be placed on top of a smaller disk.\n",
    "Here's a Java program that demonstrates the Tower of Hanoi problem using recursion:\n",
    "\n",
    "java\n",
    "Copy code\n",
    "public class TowerOfHanoi {\n",
    "\n",
    "    public static void towerOfHanoi(int n, char source, char auxiliary, char destination) {\n",
    "        if (n == 1) {\n",
    "            System.out.println(\"Move disk 1 from \" + source + \" to \" + destination);\n",
    "            return;\n",
    "        }\n",
    "\n",
    "        towerOfHanoi(n - 1, source, destination, auxiliary);\n",
    "        System.out.println(\"Move disk \" + n + \" from \" + source + \" to \" + destination);\n",
    "        towerOfHanoi(n - 1, auxiliary, source, destination);\n",
    "    }\n",
    "\n",
    "    public static void main(String[] args) {\n",
    "        int numDisks = 3;\n",
    "        towerOfHanoi(numDisks, 'A', 'B', 'C');\n",
    "    }\n",
    "}\n",
    "Explanation:\n",
    "\n",
    "The towerOfHanoi method is a recursive function that solves the Tower of Hanoi problem.\n",
    "It takes four parameters: n (number of disks), source (rod from which disks are moved), auxiliary (helper rod), \n",
    "and destination (rod to which disks are moved).\n",
    "The base case (if (n == 1)) is when there's only one disk. In this case, it directly moves the disk from the source rod to the destination rod.\n",
    "For n disks, the function recursively solves the Tower of Hanoi problem as follows:\n",
    "Move n-1 disks from the source rod to the auxiliary rod using the destination rod as a helper.\n",
    "Move the nth disk from the source rod to the destination rod directly.\n",
    "Move the n-1 disks from the auxiliary rod to the destination rod using the source rod as a helper.\n",
    "In the main method, it calls towerOfHanoi with the initial parameters: 3 disks (numDisks), source rod 'A', \n",
    "auxiliary rod 'B', and destination rod 'C'.\n",
    "Recursion is crucial here because it breaks down the problem into smaller sub-problems.\n",
    "The function keeps calling itself with a smaller number of disks until it reaches the base case (1 disk), \n",
    "then it performs the required move. As the function unwinds from the base case, \n",
    "the disks are moved in the correct order to reach the destination rod.\n"
   ]
  },
  {
   "cell_type": "code",
   "execution_count": null,
   "id": "dc57e0d6-abc6-400c-bd6b-e3a7ecf47556",
   "metadata": {},
   "outputs": [],
   "source": [
    "Q.2 Given two strings word1 and word2, return the minimum number of operations required to convert word1\n",
    "to word2.\n",
    "Example 1:\n",
    "Input: word1 = \"horse\", word2 = \"ros\"\n",
    "Output: 3\n",
    "Explanation:\n",
    "horse -> rorse (replace 'h' with 'r')\n",
    "rorse -> rose (remove 'r')\n",
    "rose -> ros (remove 'e')\n",
    "Example 2:\n",
    "Input: word1 = \"intention\", word2 = \"execution\"\n",
    "Output: 5\n",
    "Explanation:\n",
    "intention -> inention (remove 't')\n",
    "inention -> enention (replace 'i' with 'e')\n",
    "enention -> exention (replace 'n' with 'x')\n",
    "exention -> exection (replace 'n' with 'c')\n",
    "exection -> execution (insert 'u')"
   ]
  },
  {
   "cell_type": "code",
   "execution_count": null,
   "id": "5b6852c9-a441-44b2-85f6-4dc89c3750da",
   "metadata": {},
   "outputs": [],
   "source": [
    "public class EditDistance {\n",
    "    public int minDistance(String word1, String word2) {\n",
    "        int m = word1.length();\n",
    "        int n = word2.length();\n",
    "\n",
    "        int[][] dp = new int[m + 1][n + 1];\n",
    "\n",
    "        for (int i = 0; i <= m; i++) {\n",
    "            for (int j = 0; j <= n; j++) {\n",
    "                if (i == 0)\n",
    "                    dp[i][j] = j; // If word1 is empty, minimum operations = length of word2\n",
    "                else if (j == 0)\n",
    "                    dp[i][j] = i; // If word2 is empty, minimum operations = length of word1\n",
    "                else if (word1.charAt(i - 1) == word2.charAt(j - 1))\n",
    "                    dp[i][j] = dp[i - 1][j - 1]; // No operation needed if characters are the same\n",
    "                else\n",
    "                    dp[i][j] = 1 + Math.min(dp[i - 1][j - 1], Math.min(dp[i][j - 1], dp[i - 1][j]));\n",
    "                    // Minimum of replace, insert, or delete operations\n",
    "            }\n",
    "        }\n",
    "\n",
    "        return dp[m][n];\n",
    "    }\n",
    "\n",
    "    public static void main(String[] args) {\n",
    "        EditDistance ed = new EditDistance();\n",
    "        String word1 = \"horse\";\n",
    "        String word2 = \"ros\";\n",
    "        System.out.println(\"Minimum operations: \" + ed.minDistance(word1, word2)); // Output: 3\n",
    "\n",
    "        word1 = \"intention\";\n",
    "        word2 = \"execution\";\n",
    "        System.out.println(\"Minimum operations: \" + ed.minDistance(word1, word2)); // Output: 5\n",
    "    }\n",
    "}\n"
   ]
  },
  {
   "cell_type": "code",
   "execution_count": null,
   "id": "fc3b13fc-86b9-4952-a4c6-5ada11ddeb90",
   "metadata": {},
   "outputs": [],
   "source": [
    "Q. 3 Print the max value of the array [ 13, 1, -3, 22, 5]."
   ]
  },
  {
   "cell_type": "code",
   "execution_count": 1,
   "id": "011ff310-26fc-4d52-9264-715722e53ca7",
   "metadata": {},
   "outputs": [
    {
     "name": "stdout",
     "output_type": "stream",
     "text": [
      "Maximum value in the array: 22\n"
     ]
    }
   ],
   "source": [
    "def find_max(arr):\n",
    "    if len(arr) == 1:\n",
    "        return arr[0]\n",
    "\n",
    "    mid = len(arr) // 2\n",
    "    left_max = find_max(arr[:mid])\n",
    "    right_max = find_max(arr[mid:])\n",
    "\n",
    "    return max(left_max, right_max)\n",
    "\n",
    "array = [13, 1, -3, 22, 5]\n",
    "max_value = find_max(array)\n",
    "print(\"Maximum value in the array:\", max_value)  # Output: 22\n"
   ]
  },
  {
   "cell_type": "code",
   "execution_count": null,
   "id": "2ef3c5f3-5ab3-4d18-8759-1bd2aa25ff0b",
   "metadata": {},
   "outputs": [],
   "source": [
    "Q.4 Find the sum of the values of the array [92, 23, 15, -20, 10]."
   ]
  },
  {
   "cell_type": "code",
   "execution_count": 2,
   "id": "7089dd6b-684b-4761-8b26-a758eb9a7d7f",
   "metadata": {},
   "outputs": [
    {
     "name": "stdout",
     "output_type": "stream",
     "text": [
      "Sum of the values in the array: 120\n"
     ]
    }
   ],
   "source": [
    "def array_sum(arr):\n",
    "    if len(arr) == 1:\n",
    "        return arr[0]\n",
    "    else:\n",
    "        mid = len(arr) // 2\n",
    "        return array_sum(arr[:mid]) + array_sum(arr[mid:])\n",
    "\n",
    "array = [92, 23, 15, -20, 10]\n",
    "total_sum = array_sum(array)\n",
    "print(\"Sum of the values in the array:\", total_sum)  # Output: 120\n"
   ]
  },
  {
   "cell_type": "code",
   "execution_count": null,
   "id": "6f8c146e-9c28-4a21-8f6b-a4ae6628b82e",
   "metadata": {},
   "outputs": [],
   "source": [
    "Q.5 Given a number n. Print if it is an armstrong number or not.An armstrong number is a number if the sum\n",
    "of every digit in that number raised to the power of total digits in that number is equal to the number.\n",
    "Example : 153 = 1^3 + 5^3 + 3^3 = 1 + 125 + 27 = 153 hence 153 is an armstrong number. (Easy)\n",
    "Input1 : 153\n",
    "Output1 : Yes\n",
    "Input 2 : 134"
   ]
  },
  {
   "cell_type": "code",
   "execution_count": 3,
   "id": "fed8a7f1-8afe-462e-b82c-6095fe0cb96e",
   "metadata": {},
   "outputs": [
    {
     "name": "stdout",
     "output_type": "stream",
     "text": [
      "Input1: Yes\n",
      "Input2: No\n"
     ]
    }
   ],
   "source": [
    "def count_digits(n):\n",
    "    if n == 0:\n",
    "        return 0\n",
    "    return 1 + count_digits(n // 10)\n",
    "\n",
    "def is_armstrong_number(num):\n",
    "    num_digits = count_digits(num)\n",
    "    \n",
    "    def armstrong_sum(number, power):\n",
    "        if number == 0:\n",
    "            return 0\n",
    "        digit = number % 10\n",
    "        return digit ** power + armstrong_sum(number // 10, power)\n",
    "    \n",
    "    arm_sum = armstrong_sum(num, num_digits)\n",
    "    return arm_sum == num\n",
    "\n",
    "# Example numbers\n",
    "input1 = 153\n",
    "input2 = 134\n",
    "\n",
    "# Check if input1 is an Armstrong number\n",
    "if is_armstrong_number(input1):\n",
    "    print(\"Input1: Yes\")\n",
    "else:\n",
    "    print(\"Input1: No\")\n",
    "\n",
    "# Check if input2 is an Armstrong number\n",
    "if is_armstrong_number(input2):\n",
    "    print(\"Input2: Yes\")\n",
    "else:\n",
    "    print(\"Input2: No\")\n"
   ]
  },
  {
   "cell_type": "code",
   "execution_count": null,
   "id": "24072adb-bace-4329-890e-991e76324334",
   "metadata": {},
   "outputs": [],
   "source": []
  }
 ],
 "metadata": {
  "kernelspec": {
   "display_name": "Python 3 (ipykernel)",
   "language": "python",
   "name": "python3"
  },
  "language_info": {
   "codemirror_mode": {
    "name": "ipython",
    "version": 3
   },
   "file_extension": ".py",
   "mimetype": "text/x-python",
   "name": "python",
   "nbconvert_exporter": "python",
   "pygments_lexer": "ipython3",
   "version": "3.10.8"
  }
 },
 "nbformat": 4,
 "nbformat_minor": 5
}
